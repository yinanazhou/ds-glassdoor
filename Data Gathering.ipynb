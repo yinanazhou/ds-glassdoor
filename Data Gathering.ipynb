{
 "cells": [
  {
   "cell_type": "code",
   "execution_count": 6,
   "metadata": {},
   "outputs": [],
   "source": [
    "# -*- coding: utf-8 -*-\n",
    "\"\"\"\n",
    "url: https://github.com/PlayingNumbers/ds_salary_proj\n",
    "\"\"\"\n",
    "\n",
    "import pandas as pd\n",
    "import numpy as np\n",
    "\n",
    "df_raw = pd.read_csv('glassdoor_jobs.csv')\n"
   ]
  },
  {
   "cell_type": "code",
   "execution_count": 16,
   "metadata": {},
   "outputs": [
    {
     "name": "stdout",
     "output_type": "stream",
     "text": [
      "hourly paid: 0\n",
      "No Salary: 0\n",
      "no minimum_experience_requirement: 183\n"
     ]
    }
   ],
   "source": [
    "df = df_raw.copy()\n",
    "\n",
    "### salary parsing\n",
    "df['hourly'] = df['Salary Estimate'].apply(lambda x: 1 if 'per hour' in x.lower() else 0)\n",
    "print('hourly paid:',len(df[df['hourly']==1]))\n",
    "\n",
    "df['who_est'] = df['Salary Estimate'].apply(lambda x: 'Employer' if '(Employer Est.)' in x else 'Glassdoor')\n",
    "\n",
    "#df['employer_est'] = df['Salary Estimate'].apply(lambda x: 1 if '(Employer Est.)' in x else 0)\n",
    "#df['glassdoor_est'] = df['Salary Estimate'].apply(lambda x: 1 if '(Glassdoor Est.)' in x else 0)\n",
    "df = df[df['Salary Estimate'] != '-1']\n",
    "print('No Salary:',len(df[df['Salary Estimate'] == '-1']))\n",
    "\n",
    "salary = df['Salary Estimate'].apply(lambda x: x.split('(')[0])\n",
    "# remove k and $ in salary\n",
    "minus_Kd = salary.apply(lambda x: x.replace('K', '').replace('$', ''))\n",
    "# remove text in salary\n",
    "salary_cln = minus_Kd.apply(lambda x: x.lower().replace('per hour', '').replace('(Glassdoor Est.)', '').replace('(Employer Est.)', ''))\n",
    "\n",
    "df['min_salary'] = salary_cln.apply(lambda x: int(x.split('-')[0]))\n",
    "df['max_salary'] = salary_cln.apply(lambda x: int(x.split('-')[1]))\n",
    "df['avg_salary'] = (df.min_salary + df.max_salary) / 2\n"
   ]
  },
  {
   "cell_type": "code",
   "execution_count": null,
   "metadata": {},
   "outputs": [],
   "source": [
    "### company info\n",
    "# Company name text only\n",
    "df['company_txt'] = df.apply(lambda x: x['Company Name'] if x['Rating'] < 0 else x['Company Name'][:-3], axis=1)\n",
    "\n",
    "# age of company\n",
    "df['compnay_age'] = df.Founded.apply(lambda x: x if x < 1 else 2020 - x)\n",
    "\n"
   ]
  },
  {
   "cell_type": "code",
   "execution_count": null,
   "metadata": {},
   "outputs": [],
   "source": [
    "### parsing of job description (python, etc.)\n",
    "\n",
    "# python\n",
    "df['Python'] = df['Job Description'].apply(lambda x: 1 if 'python' in x.lower() else 0)\n",
    "# r\n",
    "df['R'] = df['Job Description'].apply(lambda x: 1 if 'R' in x else 0)\n",
    "# spark\n",
    "df['Spark'] = df['Job Description'].apply(lambda x: 1 if 'spark' in x.lower() else 0)\n",
    "# SQL\n",
    "df['SQL'] = df['Job Description'].apply(lambda x: 1 if 'sql' in x.lower() else 0)\n",
    "# AWS\n",
    "df['AWS'] = df['Job Description'].apply(lambda x: 1 if 'aws' in x.lower() or 'amazon' in x.lower() else 0)\n",
    "# excel\n",
    "df['Excel'] = df['Job Description'].apply(lambda x: 1 if 'excel' in x.lower() else 0)\n",
    "# Tableau\n",
    "df['Tableau'] = df['Job Description'].apply(lambda x: 1 if 'tableau' in x.lower() else 0)\n",
    "# PowerBI\n",
    "df['PowerBI'] = df['Job Description'].apply(lambda x: 1 if 'powerbi' in x.lower() or 'power bi' in x.lower() else 0)\n",
    "# Azure\n",
    "df['Azure'] = df['Job Description'].apply(lambda x: 1 if 'azure' in x.lower() else 0)\n",
    "# French\n",
    "df['French'] = df['Job Description'].apply(lambda x: 1 if 'french' in x.lower() or 'bilingual' in x.lower() else 0)\n",
    "\n",
    "# experience level\n",
    "df['Intern'] = df['Job Title'].apply(lambda x: 1 if 'intern' in x.lower()\n",
    "                                                    or 'coop' in x.lower()\n",
    "                                                    or 'co-op' in x.lower()\n",
    "                                                    else 0)\n",
    "df['Junior'] = df['Job Title'].apply(lambda x: 1 if 'junior' in x.lower()\n",
    "                                                    or 'jr' in x.lower()\n",
    "                                                    or 'entry' in x.lower()\n",
    "                                                    or 'new grad' in x.lower()\n",
    "                                                    else 0)\n",
    "df['Senior'] = df['Job Title'].apply(lambda x: 1 if 'senior' in x.lower()\n",
    "                                                    or 'sr' in x.lower()\n",
    "                                                    or 'staff' in x.lower()\n",
    "                                                    #or 'director' in x.lower()\n",
    "                                                    or 'principle' in x.lower()\n",
    "                                                    or 'lead' in x.lower()\n",
    "                                                    #or 'manager' in x.lower()\n",
    "                                                    #or 'president' in x.lower()\n",
    "                                                    or 'principal' in x.lower() ###### naiyu add\n",
    "                                                    else 0)\n",
    "df['Manager'] = df['Job Title'].apply(lambda x: 1 if 'director' in x.lower()\n",
    "                                                    or 'manager' in x.lower()\n",
    "                                                    or 'president' in x.lower()\n",
    "                                                    else 0)\n",
    "def get_minimum_experience_requirement(row):\n",
    "    if row['Intern'] == 1:\n",
    "        return 'Intern'\n",
    "    elif row['Junior'] == 1:\n",
    "        return 'Junior'\n",
    "    elif row['Senior'] == 1:\n",
    "        return 'Senior'\n",
    "    elif row['Manager'] == 1:\n",
    "        return 'Manager'\n",
    "    else:\n",
    "        return 'NA'\n",
    "\n",
    "df['min_experience_level'] = df.apply(get_minimum_experience_requirement, axis=1)\n",
    "print('no minimum_experience_requirement:',len(df[df['min_experience_level']=='NA']))\n",
    "\n",
    "# fill na with 'Junior'\n",
    "df.loc[df['min_experience_level'] == 'NA', 'min_experience_level'] = 'Junior'\n",
    "\n"
   ]
  },
  {
   "cell_type": "code",
   "execution_count": 17,
   "metadata": {},
   "outputs": [
    {
     "data": {
      "text/plain": [
       "Job Title                object\n",
       "Salary Estimate          object\n",
       "Job Description          object\n",
       "Rating                  float64\n",
       "Company Name             object\n",
       "Location                 object\n",
       "Headquarters              int64\n",
       "Size                     object\n",
       "Founded                   int64\n",
       "Type of ownership        object\n",
       "Industry                 object\n",
       "Sector                   object\n",
       "Revenue                  object\n",
       "Competitors               int64\n",
       "Recommend Rating         object\n",
       "CEO Rating               object\n",
       "Career Opportunities    float64\n",
       "Comp & Benefits         float64\n",
       "Culture & Values        float64\n",
       "Senior Management       float64\n",
       "Work/Life Balance       float64\n",
       "hourly                    int64\n",
       "who_est                  object\n",
       "min_salary                int64\n",
       "max_salary                int64\n",
       "avg_salary              float64\n",
       "company_txt              object\n",
       "compnay_age               int64\n",
       "Python                    int64\n",
       "R                         int64\n",
       "Spark                     int64\n",
       "SQL                       int64\n",
       "AWS                       int64\n",
       "Excel                     int64\n",
       "Tableau                   int64\n",
       "PowerBI                   int64\n",
       "Azure                     int64\n",
       "French                    int64\n",
       "Intern                    int64\n",
       "Junior                    int64\n",
       "Senior                    int64\n",
       "Manager                   int64\n",
       "min_experience_level     object\n",
       "dtype: object"
      ]
     },
     "execution_count": 17,
     "metadata": {},
     "output_type": "execute_result"
    }
   ],
   "source": [
    "df.dtypes"
   ]
  },
  {
   "cell_type": "code",
   "execution_count": null,
   "metadata": {},
   "outputs": [],
   "source": [
    "df.to_csv('data_processed_v2.csv', index=False)"
   ]
  },
  {
   "cell_type": "code",
   "execution_count": null,
   "metadata": {},
   "outputs": [],
   "source": []
  },
  {
   "cell_type": "code",
   "execution_count": null,
   "metadata": {},
   "outputs": [],
   "source": []
  }
 ],
 "metadata": {
  "kernelspec": {
   "display_name": "Python 3",
   "language": "python",
   "name": "python3"
  },
  "language_info": {
   "codemirror_mode": {
    "name": "ipython",
    "version": 3
   },
   "file_extension": ".py",
   "mimetype": "text/x-python",
   "name": "python",
   "nbconvert_exporter": "python",
   "pygments_lexer": "ipython3",
   "version": "3.8.5"
  }
 },
 "nbformat": 4,
 "nbformat_minor": 4
}
